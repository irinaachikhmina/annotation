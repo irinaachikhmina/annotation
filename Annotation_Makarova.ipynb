{
  "nbformat": 4,
  "nbformat_minor": 0,
  "metadata": {
    "kernelspec": {
      "display_name": "Python 3",
      "language": "python",
      "name": "python3"
    },
    "language_info": {
      "codemirror_mode": {
        "name": "ipython",
        "version": 3
      },
      "file_extension": ".py",
      "mimetype": "text/x-python",
      "name": "python",
      "nbconvert_exporter": "python",
      "pygments_lexer": "ipython3",
      "version": "3.8.3"
    },
    "colab": {
      "provenance": []
    }
  },
  "cells": [
    {
      "cell_type": "code",
      "metadata": {
        "colab": {
          "base_uri": "https://localhost:8080/"
        },
        "id": "F-H-Mn1AQUg1",
        "outputId": "6c208af5-83a8-4e2c-f614-c15e8564b321"
      },
      "source": [
        "!pip install Bio"
      ],
      "execution_count": null,
      "outputs": [
        {
          "output_type": "stream",
          "text": [
            "Collecting Bio\n",
            "\u001b[?25l  Downloading https://files.pythonhosted.org/packages/43/f1/34f9d2f010be943b1884005ed0ef344f571876d0eb0a55cb4f00e39d2f0f/bio-0.5.0-py3-none-any.whl (94kB)\n",
            "\u001b[K     |████████████████████████████████| 102kB 4.8MB/s \n",
            "\u001b[?25hCollecting biopython>=1.78\n",
            "\u001b[?25l  Downloading https://files.pythonhosted.org/packages/5a/42/de1ed545df624180b84c613e5e4de4848f72989ce5846a74af6baa0737b9/biopython-1.79-cp37-cp37m-manylinux_2_5_x86_64.manylinux1_x86_64.whl (2.3MB)\n",
            "\u001b[K     |████████████████████████████████| 2.3MB 8.6MB/s \n",
            "\u001b[?25hRequirement already satisfied: plac in /usr/local/lib/python3.7/dist-packages (from Bio) (1.1.3)\n",
            "Requirement already satisfied: numpy<1.20 in /usr/local/lib/python3.7/dist-packages (from Bio) (1.19.5)\n",
            "Requirement already satisfied: requests in /usr/local/lib/python3.7/dist-packages (from Bio) (2.23.0)\n",
            "Requirement already satisfied: idna<3,>=2.5 in /usr/local/lib/python3.7/dist-packages (from requests->Bio) (2.10)\n",
            "Requirement already satisfied: certifi>=2017.4.17 in /usr/local/lib/python3.7/dist-packages (from requests->Bio) (2021.5.30)\n",
            "Requirement already satisfied: chardet<4,>=3.0.2 in /usr/local/lib/python3.7/dist-packages (from requests->Bio) (3.0.4)\n",
            "Requirement already satisfied: urllib3!=1.25.0,!=1.25.1,<1.26,>=1.21.1 in /usr/local/lib/python3.7/dist-packages (from requests->Bio) (1.24.3)\n",
            "Installing collected packages: biopython, Bio\n",
            "Successfully installed Bio-0.5.0 biopython-1.79\n"
          ],
          "name": "stdout"
        }
      ]
    },
    {
      "cell_type": "code",
      "metadata": {
        "colab": {
          "base_uri": "https://localhost:8080/"
        },
        "id": "A66wJb0IQyoS",
        "outputId": "088dffe4-f07b-4007-806a-c1aae8ddf48f"
      },
      "source": [
        "!pip install pybedtools"
      ],
      "execution_count": null,
      "outputs": [
        {
          "output_type": "stream",
          "text": [
            "Collecting pybedtools\n",
            "\u001b[?25l  Downloading https://files.pythonhosted.org/packages/5b/57/46e9c8135954550d1d3a05db5b0462a264239f7f71c78af304bb47c5c900/pybedtools-0.8.2.tar.gz (12.5MB)\n",
            "\u001b[K     |████████████████████████████████| 12.5MB 237kB/s \n",
            "\u001b[?25hRequirement already satisfied: six in /usr/local/lib/python3.7/dist-packages (from pybedtools) (1.15.0)\n",
            "Collecting pysam\n",
            "\u001b[?25l  Downloading https://files.pythonhosted.org/packages/20/85/335857b9888f6d9a13b03a8f21b0a6228b180c361631d9d70e7be3e22163/pysam-0.16.0.1-cp37-cp37m-manylinux1_x86_64.whl (9.9MB)\n",
            "\u001b[K     |████████████████████████████████| 9.9MB 22.6MB/s \n",
            "\u001b[?25hBuilding wheels for collected packages: pybedtools\n",
            "  Building wheel for pybedtools (setup.py) ... \u001b[?25l\u001b[?25hdone\n",
            "  Created wheel for pybedtools: filename=pybedtools-0.8.2-cp37-cp37m-linux_x86_64.whl size=13617693 sha256=859bba01b58fc540fd33c1a9730ec3a3a811866e87ed8379bffc3b1448659ef4\n",
            "  Stored in directory: /root/.cache/pip/wheels/ab/ae/8d/efdbbacea1f52e55602720575328b97fed787bd12723d25d5b\n",
            "Successfully built pybedtools\n",
            "Installing collected packages: pysam, pybedtools\n",
            "Successfully installed pybedtools-0.8.2 pysam-0.16.0.1\n"
          ],
          "name": "stdout"
        }
      ]
    },
    {
      "cell_type": "code",
      "metadata": {
        "id": "lqCL7tdfN10P"
      },
      "source": [
        "import os\n",
        "import pandas as pd\n",
        "from Bio import SeqIO\n",
        "from Bio.Seq import Seq\n",
        "from Bio.SeqRecord import SeqRecord\n",
        "from Bio.SeqFeature import SeqFeature, FeatureLocation\n",
        "from Bio import Entrez"
      ],
      "execution_count": null,
      "outputs": []
    },
    {
      "cell_type": "code",
      "metadata": {
        "colab": {
          "base_uri": "https://localhost:8080/"
        },
        "id": "uRD0rUI8OF4G",
        "outputId": "92939964-ba40-459c-ec76-b1afb1cce27f"
      },
      "source": [
        "from google.colab import drive\n",
        "drive.mount('/content/drive')"
      ],
      "execution_count": null,
      "outputs": [
        {
          "output_type": "stream",
          "text": [
            "Mounted at /content/drive\n"
          ],
          "name": "stdout"
        }
      ]
    },
    {
      "cell_type": "code",
      "metadata": {
        "id": "9w4swugiN10U"
      },
      "source": [
        "os.chdir('/content/drive/MyDrive/Annotation')"
      ],
      "execution_count": null,
      "outputs": []
    },
    {
      "cell_type": "markdown",
      "metadata": {
        "id": "BgOWeQ4yN10W"
      },
      "source": [
        "# Genes - ORFs"
      ]
    },
    {
      "cell_type": "code",
      "metadata": {
        "id": "asa2E1u5N10W"
      },
      "source": [
        "# BLASTP hittable for ORFs (identified using Artemis)\n",
        "a = pd.read_csv('HitTable.csv')"
      ],
      "execution_count": null,
      "outputs": []
    },
    {
      "cell_type": "code",
      "metadata": {
        "id": "fL6zeWBKN10X"
      },
      "source": [
        "a2 = a.Gene.unique()"
      ],
      "execution_count": null,
      "outputs": []
    },
    {
      "cell_type": "code",
      "metadata": {
        "id": "kLAbVLryN10X"
      },
      "source": [
        "columns = a.columns\n",
        "new_a = pd.DataFrame(columns=columns)\n",
        "\n",
        "for gene in a2:\n",
        "    temp_df = a[a['Gene'] == gene]\n",
        "    max_identity = temp_df['identity'].max()\n",
        "    new_a = new_a.append(temp_df[temp_df['identity'] == max_identity])\n",
        "\n"
      ],
      "execution_count": null,
      "outputs": []
    },
    {
      "cell_type": "code",
      "metadata": {
        "id": "hb6gck2nN10Y"
      },
      "source": [
        "new_a.reset_index(drop=True, inplace=True)"
      ],
      "execution_count": null,
      "outputs": []
    },
    {
      "cell_type": "code",
      "metadata": {
        "id": "zpbCmvOLN10Y"
      },
      "source": [
        "new_a = new_a.reindex(columns = new_a.columns.tolist() + ['start','end'])"
      ],
      "execution_count": null,
      "outputs": []
    },
    {
      "cell_type": "code",
      "metadata": {
        "id": "08OV1pzZN10Z"
      },
      "source": [
        "#Genes coordinates - parsing of ORF list from Artemis\n",
        "coord = SeqIO.parse(open('amino_acids.fasta'),'fasta')"
      ],
      "execution_count": null,
      "outputs": []
    },
    {
      "cell_type": "code",
      "metadata": {
        "id": "dY5LgA0tN10Z"
      },
      "source": [
        "import re"
      ],
      "execution_count": null,
      "outputs": []
    },
    {
      "cell_type": "code",
      "metadata": {
        "id": "qxnXFvErN10a"
      },
      "source": [
        "regex = r\"undefined product (\\d+):(\\d+)\"\n",
        "\n",
        "i=0\n",
        "for seq_record in coord:\n",
        "#     print(seq_record.description)\n",
        "#     re_match = regex.match(seq_record.description)\n",
        "#     print(re_match.group(1))\n",
        "    matches = re.finditer(regex, seq_record.description)\n",
        "    for matchNum, match in enumerate(matches, start=1):\n",
        "        new_a.loc[new_a.index[i],'start'] = match.group(1)\n",
        "        new_a.loc[new_a.index[i],'end'] = match.group(2)\n",
        "    i+=1"
      ],
      "execution_count": null,
      "outputs": []
    },
    {
      "cell_type": "code",
      "metadata": {
        "id": "SMlnWxWvN10a"
      },
      "source": [
        "min(new_a.identity)"
      ],
      "execution_count": null,
      "outputs": []
    },
    {
      "cell_type": "code",
      "metadata": {
        "scrolled": true,
        "id": "_rfpf7EpN10a"
      },
      "source": [
        "new_a.head(52)"
      ],
      "execution_count": null,
      "outputs": []
    },
    {
      "cell_type": "markdown",
      "metadata": {
        "id": "etPINqOMN10b"
      },
      "source": [
        "# Genes - Intergenic"
      ]
    },
    {
      "cell_type": "code",
      "metadata": {
        "id": "7m9wZS-qN10b"
      },
      "source": [
        "# BLASTP hittable for intergenic regions (identified using Atremis)\n",
        "b = pd.read_csv('HitTable-intergene.csv')"
      ],
      "execution_count": null,
      "outputs": []
    },
    {
      "cell_type": "code",
      "metadata": {
        "id": "ZMfiMFwDN10b"
      },
      "source": [
        "b2 = b.Gene.unique()"
      ],
      "execution_count": null,
      "outputs": []
    },
    {
      "cell_type": "code",
      "metadata": {
        "colab": {
          "base_uri": "https://localhost:8080/",
          "height": 174
        },
        "id": "WXadEE3VN10c",
        "outputId": "226db850-7330-4249-da68-a9eca9c4e1c4"
      },
      "source": [
        "columns = b.columns\n",
        "new_b = pd.DataFrame(columns=columns)\n",
        "\n",
        "for gene in b2:\n",
        "    temp_df = b[b['Gene'] == gene]\n",
        "    max_identity = temp_df['identity'].max()\n",
        "    new_b = new_b.append(temp_df[temp_df['identity'] == max_identity])\n",
        "\n",
        "new_b.head()"
      ],
      "execution_count": null,
      "outputs": [
        {
          "output_type": "execute_result",
          "data": {
            "text/html": [
              "<div>\n",
              "<style scoped>\n",
              "    .dataframe tbody tr th:only-of-type {\n",
              "        vertical-align: middle;\n",
              "    }\n",
              "\n",
              "    .dataframe tbody tr th {\n",
              "        vertical-align: top;\n",
              "    }\n",
              "\n",
              "    .dataframe thead th {\n",
              "        text-align: right;\n",
              "    }\n",
              "</style>\n",
              "<table border=\"1\" class=\"dataframe\">\n",
              "  <thead>\n",
              "    <tr style=\"text-align: right;\">\n",
              "      <th></th>\n",
              "      <th>Gene</th>\n",
              "      <th>Hit</th>\n",
              "      <th>identity</th>\n",
              "      <th>alignmentlength</th>\n",
              "      <th>mismatches</th>\n",
              "      <th>gapopens</th>\n",
              "      <th>qstart</th>\n",
              "      <th>qend</th>\n",
              "      <th>sstart</th>\n",
              "      <th>send</th>\n",
              "      <th>evalue</th>\n",
              "      <th>bitscore</th>\n",
              "      <th>positives</th>\n",
              "    </tr>\n",
              "  </thead>\n",
              "  <tbody>\n",
              "    <tr>\n",
              "      <th>0</th>\n",
              "      <td>PORF00001</td>\n",
              "      <td>ETY10707.1</td>\n",
              "      <td>97.619</td>\n",
              "      <td>42</td>\n",
              "      <td>1</td>\n",
              "      <td>0</td>\n",
              "      <td>1</td>\n",
              "      <td>42</td>\n",
              "      <td>8</td>\n",
              "      <td>49</td>\n",
              "      <td>3.060000e-19</td>\n",
              "      <td>86.3</td>\n",
              "      <td>97.62</td>\n",
              "    </tr>\n",
              "    <tr>\n",
              "      <th>1</th>\n",
              "      <td>PORF00015</td>\n",
              "      <td>AUW38949.1</td>\n",
              "      <td>96.667</td>\n",
              "      <td>30</td>\n",
              "      <td>1</td>\n",
              "      <td>0</td>\n",
              "      <td>1</td>\n",
              "      <td>30</td>\n",
              "      <td>1</td>\n",
              "      <td>30</td>\n",
              "      <td>8.640000e-12</td>\n",
              "      <td>63.5</td>\n",
              "      <td>100.00</td>\n",
              "    </tr>\n",
              "    <tr>\n",
              "      <th>11</th>\n",
              "      <td>PORF00017</td>\n",
              "      <td>EVU16135.1</td>\n",
              "      <td>100.000</td>\n",
              "      <td>29</td>\n",
              "      <td>0</td>\n",
              "      <td>0</td>\n",
              "      <td>42</td>\n",
              "      <td>70</td>\n",
              "      <td>1</td>\n",
              "      <td>29</td>\n",
              "      <td>9.350000e-10</td>\n",
              "      <td>58.5</td>\n",
              "      <td>100.00</td>\n",
              "    </tr>\n",
              "    <tr>\n",
              "      <th>12</th>\n",
              "      <td>PORF00042</td>\n",
              "      <td>WP_005454126.1</td>\n",
              "      <td>100.000</td>\n",
              "      <td>126</td>\n",
              "      <td>0</td>\n",
              "      <td>0</td>\n",
              "      <td>16</td>\n",
              "      <td>141</td>\n",
              "      <td>1</td>\n",
              "      <td>126</td>\n",
              "      <td>4.840000e-81</td>\n",
              "      <td>246.0</td>\n",
              "      <td>100.00</td>\n",
              "    </tr>\n",
              "  </tbody>\n",
              "</table>\n",
              "</div>"
            ],
            "text/plain": [
              "         Gene             Hit  identity  ...        evalue bitscore positives\n",
              "0   PORF00001      ETY10707.1    97.619  ...  3.060000e-19     86.3     97.62\n",
              "1   PORF00015      AUW38949.1    96.667  ...  8.640000e-12     63.5    100.00\n",
              "11  PORF00017      EVU16135.1   100.000  ...  9.350000e-10     58.5    100.00\n",
              "12  PORF00042  WP_005454126.1   100.000  ...  4.840000e-81    246.0    100.00\n",
              "\n",
              "[4 rows x 13 columns]"
            ]
          },
          "metadata": {
            "tags": []
          },
          "execution_count": 21
        }
      ]
    },
    {
      "cell_type": "code",
      "metadata": {
        "id": "MpSRFm33N10c"
      },
      "source": [
        "new_b = new_b.reindex(columns = new_b.columns.tolist() + ['start','end'])"
      ],
      "execution_count": null,
      "outputs": []
    },
    {
      "cell_type": "code",
      "metadata": {
        "id": "62M9mylHN10c"
      },
      "source": [
        "#BLASTP hittable for Genes in intergenic regions (coordinates fetched from alignments)\n",
        "c = pd.read_csv('HitTable-intergene2.csv')"
      ],
      "execution_count": null,
      "outputs": []
    },
    {
      "cell_type": "code",
      "metadata": {
        "id": "YQT6_hgRN10d"
      },
      "source": [
        "c2 = c.Gene.unique()\n",
        "columns = c.columns\n",
        "new_c = pd.DataFrame(columns=columns)\n",
        "\n",
        "for gene in c2:\n",
        "    temp_df = c[c['Gene'] == gene]\n",
        "    max_identity = temp_df['identity'].max()\n",
        "    new_c = new_c.append(temp_df[temp_df['identity'] == max_identity])"
      ],
      "execution_count": null,
      "outputs": []
    },
    {
      "cell_type": "code",
      "metadata": {
        "id": "BDWTY3EPN10d"
      },
      "source": [
        "new_c = new_c.reindex(columns = new_c.columns.tolist() + ['start','end'])"
      ],
      "execution_count": null,
      "outputs": []
    },
    {
      "cell_type": "code",
      "metadata": {
        "id": "QtAozm-ON10d"
      },
      "source": [
        "#Genes coordinates - parsing of file from Artemis\n",
        "coord_c = SeqIO.parse(open('intergenic-only with matches.fasta'),'fasta')"
      ],
      "execution_count": null,
      "outputs": []
    },
    {
      "cell_type": "code",
      "metadata": {
        "id": "Y6fad1WYN10d"
      },
      "source": [
        "import re"
      ],
      "execution_count": null,
      "outputs": []
    },
    {
      "cell_type": "code",
      "metadata": {
        "id": "1KY3lMSBN10e"
      },
      "source": [
        "regex = r\"undefined product (\\d+):(\\d+)\"\n",
        "\n",
        "i=0\n",
        "for seq_record in coord_c:\n",
        "    matches = re.finditer(regex, seq_record.description)\n",
        "    for matchNum, match in enumerate(matches, start=1):\n",
        "        new_c.loc[new_c.index[i],'start'] = match.group(1)\n",
        "        new_c.loc[new_c.index[i],'end'] = match.group(2)\n",
        "    i+=1"
      ],
      "execution_count": null,
      "outputs": []
    },
    {
      "cell_type": "code",
      "metadata": {
        "id": "1sl84T8fN10e"
      },
      "source": [
        "new_c.head()"
      ],
      "execution_count": null,
      "outputs": []
    },
    {
      "cell_type": "code",
      "metadata": {
        "id": "asdDcUxpN10e"
      },
      "source": [
        "min(new_c.identity)"
      ],
      "execution_count": null,
      "outputs": []
    },
    {
      "cell_type": "markdown",
      "metadata": {
        "id": "IB04_AkxN10e"
      },
      "source": [
        "# All genes and functions"
      ]
    },
    {
      "cell_type": "code",
      "metadata": {
        "id": "kH68RKHfN10f"
      },
      "source": [
        "Genes = pd.concat([new_a, new_c])"
      ],
      "execution_count": null,
      "outputs": []
    },
    {
      "cell_type": "code",
      "metadata": {
        "id": "zswiK0ngN10f"
      },
      "source": [
        "Genes.loc[:, 'start'] = pd.to_numeric(Genes.loc[:, 'start'])"
      ],
      "execution_count": null,
      "outputs": []
    },
    {
      "cell_type": "code",
      "metadata": {
        "id": "5YdaF6ssN10f"
      },
      "source": [
        "Genes.sort_values(by='start', inplace=True)"
      ],
      "execution_count": null,
      "outputs": []
    },
    {
      "cell_type": "code",
      "metadata": {
        "id": "YjbBQkJIN10f"
      },
      "source": [
        "Genes.index = range(len(Genes.index))"
      ],
      "execution_count": null,
      "outputs": []
    },
    {
      "cell_type": "code",
      "metadata": {
        "id": "2QFpIWHHN10f"
      },
      "source": [
        "Genes = Genes.reindex(columns = Genes.columns.tolist() + ['organism'] + ['prodct'] + ['intergene'])"
      ],
      "execution_count": null,
      "outputs": []
    },
    {
      "cell_type": "code",
      "metadata": {
        "colab": {
          "base_uri": "https://localhost:8080/"
        },
        "id": "C9f9gaCRN10g",
        "outputId": "be766a3b-91ee-4a96-a032-1dadbcc20863"
      },
      "source": [
        "for gene in Genes.Hit:\n",
        "    handle = Entrez.efetch(db='protein', rettype=\"gb\", retmode=\"text\", id=gene)\n",
        "    for seq_record in SeqIO.parse(handle, \"gb\"):\n",
        "        Genes.prodct[Genes.Hit == gene] = seq_record.description[:70]\n",
        "        Genes.organism[Genes.Hit == gene] = seq_record.annotations[\"source\"]\n",
        "    handle.close()"
      ],
      "execution_count": null,
      "outputs": [
        {
          "output_type": "stream",
          "text": [
            "/usr/local/lib/python3.7/dist-packages/Bio/Entrez/__init__.py:670: UserWarning: \n",
            "Email address is not specified.\n",
            "\n",
            "To make use of NCBI's E-utilities, NCBI requires you to specify your\n",
            "email address with each request.  As an example, if your email address\n",
            "is A.N.Other@example.com, you can specify it as follows:\n",
            "   from Bio import Entrez\n",
            "   Entrez.email = 'A.N.Other@example.com'\n",
            "In case of excessive usage of the E-utilities, NCBI will attempt to contact\n",
            "a user at the email address provided before blocking access to the\n",
            "E-utilities.\n",
            "  UserWarning,\n",
            "/usr/local/lib/python3.7/dist-packages/ipykernel_launcher.py:4: SettingWithCopyWarning: \n",
            "A value is trying to be set on a copy of a slice from a DataFrame\n",
            "\n",
            "See the caveats in the documentation: https://pandas.pydata.org/pandas-docs/stable/user_guide/indexing.html#returning-a-view-versus-a-copy\n",
            "  after removing the cwd from sys.path.\n",
            "/usr/local/lib/python3.7/dist-packages/ipykernel_launcher.py:5: SettingWithCopyWarning: \n",
            "A value is trying to be set on a copy of a slice from a DataFrame\n",
            "\n",
            "See the caveats in the documentation: https://pandas.pydata.org/pandas-docs/stable/user_guide/indexing.html#returning-a-view-versus-a-copy\n",
            "  \"\"\"\n"
          ],
          "name": "stderr"
        }
      ]
    },
    {
      "cell_type": "code",
      "metadata": {
        "colab": {
          "base_uri": "https://localhost:8080/"
        },
        "id": "4PltLOjRN10g",
        "outputId": "8df60896-7f75-49c4-80e1-1646af5ff6f5"
      },
      "source": [
        "#Add protein function identified using Pfam/InterPro/Plast\n",
        "Genes.prodct[Genes.Gene == 'ORF00009'] = 'TPA protein'\n",
        "Genes.prodct[Genes.Gene == 'ORF00016c'] = 'N-acetyltransferase domain-containing protein'\n",
        "Genes.prodct[Genes.Gene == 'PORF00015'] = 'TPA protein'\n",
        "Genes.prodct[Genes.Gene == 'PORF00017'] = 'heterocyst differentiation protein HetZ'"
      ],
      "execution_count": null,
      "outputs": [
        {
          "output_type": "stream",
          "text": [
            "/usr/local/lib/python3.7/dist-packages/ipykernel_launcher.py:2: SettingWithCopyWarning: \n",
            "A value is trying to be set on a copy of a slice from a DataFrame\n",
            "\n",
            "See the caveats in the documentation: https://pandas.pydata.org/pandas-docs/stable/user_guide/indexing.html#returning-a-view-versus-a-copy\n",
            "  \n",
            "/usr/local/lib/python3.7/dist-packages/ipykernel_launcher.py:3: SettingWithCopyWarning: \n",
            "A value is trying to be set on a copy of a slice from a DataFrame\n",
            "\n",
            "See the caveats in the documentation: https://pandas.pydata.org/pandas-docs/stable/user_guide/indexing.html#returning-a-view-versus-a-copy\n",
            "  This is separate from the ipykernel package so we can avoid doing imports until\n",
            "/usr/local/lib/python3.7/dist-packages/ipykernel_launcher.py:4: SettingWithCopyWarning: \n",
            "A value is trying to be set on a copy of a slice from a DataFrame\n",
            "\n",
            "See the caveats in the documentation: https://pandas.pydata.org/pandas-docs/stable/user_guide/indexing.html#returning-a-view-versus-a-copy\n",
            "  after removing the cwd from sys.path.\n",
            "/usr/local/lib/python3.7/dist-packages/ipykernel_launcher.py:5: SettingWithCopyWarning: \n",
            "A value is trying to be set on a copy of a slice from a DataFrame\n",
            "\n",
            "See the caveats in the documentation: https://pandas.pydata.org/pandas-docs/stable/user_guide/indexing.html#returning-a-view-versus-a-copy\n",
            "  \"\"\"\n"
          ],
          "name": "stderr"
        }
      ]
    },
    {
      "cell_type": "code",
      "metadata": {
        "id": "aDDSn_HVN10g"
      },
      "source": [
        "#Cut product name after [ sign\n",
        "for i in range(54):\n",
        "    Genes.loc[Genes.index[i],'prodct'] = Genes.loc[Genes.index[i],'prodct'].split('[', 1)[0]"
      ],
      "execution_count": null,
      "outputs": []
    },
    {
      "cell_type": "markdown",
      "metadata": {
        "id": "nM2CI2GMN10g"
      },
      "source": [
        "# Overlap"
      ]
    },
    {
      "cell_type": "code",
      "metadata": {
        "id": "6_tVVoXDN10h"
      },
      "source": [
        "#Identify intergentic regions\n",
        "for i in range(54):\n",
        "    Genes.loc[Genes.index[i],'intergene'] = int(Genes.loc[Genes.index[i+1],'start']) - int(Genes.loc[Genes.index[i],'end'])"
      ],
      "execution_count": null,
      "outputs": []
    },
    {
      "cell_type": "code",
      "metadata": {
        "colab": {
          "base_uri": "https://localhost:8080/"
        },
        "id": "iWQctBDdN10h",
        "outputId": "269c4397-9f82-47df-d94c-5996bf99b0d9"
      },
      "source": [
        "#Check for ORF overlap over 50 nt\n",
        "Genes.Gene[Genes.intergene < -50]"
      ],
      "execution_count": null,
      "outputs": [
        {
          "output_type": "execute_result",
          "data": {
            "text/plain": [
              "Series([], Name: Gene, dtype: object)"
            ]
          },
          "metadata": {
            "tags": []
          },
          "execution_count": 41
        }
      ]
    },
    {
      "cell_type": "code",
      "metadata": {
        "id": "2WLCBUpCN10h"
      },
      "source": [
        "Genes.head(10)"
      ],
      "execution_count": null,
      "outputs": []
    },
    {
      "cell_type": "markdown",
      "metadata": {
        "id": "nWpdMmbgN10h"
      },
      "source": [
        "# Comparison with RAST and Prokka"
      ]
    },
    {
      "cell_type": "code",
      "metadata": {
        "id": "wb-vL-chN10h"
      },
      "source": [
        "RastGenes = pd.read_csv('RASTresults.txt', delimiter=\"\\t\")"
      ],
      "execution_count": null,
      "outputs": []
    },
    {
      "cell_type": "code",
      "metadata": {
        "id": "Q1ZpkMrtVvQV"
      },
      "source": [
        "from pybedtools import BedTool"
      ],
      "execution_count": null,
      "outputs": []
    },
    {
      "cell_type": "code",
      "metadata": {
        "id": "rlAsXQhrV2Kp"
      },
      "source": [
        "test = BedTool.from_dataframe(Genes)"
      ],
      "execution_count": null,
      "outputs": []
    },
    {
      "cell_type": "code",
      "metadata": {
        "id": "aCfkFnfHWC2n"
      },
      "source": [
        "test2 = BedTool.from_dataframe(RastGenes)"
      ],
      "execution_count": null,
      "outputs": []
    },
    {
      "cell_type": "code",
      "metadata": {
        "id": "_la2dKicWJoP"
      },
      "source": [
        "result = test.jaccard(test2, f=0.5, r=False)"
      ],
      "execution_count": null,
      "outputs": []
    },
    {
      "cell_type": "code",
      "metadata": {
        "id": "HJJlOkEqN10i"
      },
      "source": [
        "#IoU\n"
      ],
      "execution_count": null,
      "outputs": []
    },
    {
      "cell_type": "code",
      "metadata": {
        "id": "6Vftejh1N10i"
      },
      "source": [
        "RastGenes = RastGenes.reindex(columns = RastGenes.columns.tolist() + ['organism'] + ['prodct'] + ['intergene'])"
      ],
      "execution_count": null,
      "outputs": []
    },
    {
      "cell_type": "code",
      "metadata": {
        "id": "ATFD20aBN10j"
      },
      "source": [
        "def jaccard_similarity(list1, list2):\n",
        "    intersection = len(list(set(list1).intersection(list2)))\n",
        "    union = (len(list1) + len(list2)) - intersection\n",
        "    return float(intersection) / union"
      ],
      "execution_count": null,
      "outputs": []
    },
    {
      "cell_type": "code",
      "metadata": {
        "id": "8Xb67xeUN10j"
      },
      "source": [
        "def jaccard_similarity(list1, list2):\n",
        "    s1 = set(list1)\n",
        "    s2 = set(list2)\n",
        "    return float(len(s1.intersection(s2)) / len(s1.union(s2)))\n",
        "list1 = ['dog', 'cat', 'cat', 'rat']\n",
        "list2 = ['dog', 'cat', 'mouse']\n",
        "jaccard_similarity(list1, list2)"
      ],
      "execution_count": null,
      "outputs": []
    },
    {
      "cell_type": "code",
      "metadata": {
        "id": "msGPMJWjN10k"
      },
      "source": [
        "from scipy.spatial.distance import squareform\n",
        "from scipy.spatial.distance import pdist, jaccard\n"
      ],
      "execution_count": null,
      "outputs": []
    },
    {
      "cell_type": "code",
      "metadata": {
        "id": "Y873vvNZN10k"
      },
      "source": [
        "res = pdist(df[['category1','category2','category3']], 'jaccard')\n"
      ],
      "execution_count": null,
      "outputs": []
    },
    {
      "cell_type": "code",
      "metadata": {
        "id": "byENcWdDN10k"
      },
      "source": [
        "df = pd.DataFrame(Genes.start, Genes.end, RastGenes.start, RastGenes.stop)"
      ],
      "execution_count": null,
      "outputs": []
    },
    {
      "cell_type": "code",
      "metadata": {
        "id": "ARuy9d4nN10k"
      },
      "source": [
        "res = pdist(df[[Genes.start, Genes.end], [RastGenes.start, RastGenes.stop]], 'jaccard')"
      ],
      "execution_count": null,
      "outputs": []
    },
    {
      "cell_type": "markdown",
      "metadata": {
        "id": "D265eH_6N10l"
      },
      "source": [
        "# Results - GenBank file"
      ]
    },
    {
      "cell_type": "code",
      "metadata": {
        "id": "CHK55kpCN10l"
      },
      "source": [
        "# Save as GenBank file\n",
        "record = SeqRecord(sequence_object,\n",
        "                   id='123456789', # random accession number\n",
        "                   name='Example',\n",
        "                   description='An example GenBank file generated by BioPython')\n",
        "\n",
        "# Add annotation\n",
        "feature = SeqFeature(FeatureLocation(start=3, end=12), type='misc_feature')\n",
        "record.features.append(feature)\n",
        "\n",
        "output_file = open('example.gb', 'w')\n",
        "SeqIO.write(record, output_file, 'genbank')"
      ],
      "execution_count": null,
      "outputs": []
    },
    {
      "cell_type": "code",
      "metadata": {
        "id": "LFQJC-lMN10m"
      },
      "source": [
        "SeqIO.write(record, output_file, 'genbank')"
      ],
      "execution_count": null,
      "outputs": []
    }
  ]
}